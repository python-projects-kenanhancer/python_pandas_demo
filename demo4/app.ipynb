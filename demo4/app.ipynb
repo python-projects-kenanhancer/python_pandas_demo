{
 "cells": [
  {
   "cell_type": "code",
   "execution_count": 4,
   "metadata": {},
   "outputs": [
    {
     "name": "stdout",
     "output_type": "stream",
     "text": [
      "    Names  Ages  Account_balance Membership  Newsletter_subscription  \\\n",
      "0    John    23             1000      Basic                     True   \n",
      "1    Mary    78              970      Basic                    False   \n",
      "2   Peter    22             3000    Premium                     True   \n",
      "3    Jeff    19              500   Advanced                    False   \n",
      "4    Bill    45                0   Advanced                    False   \n",
      "5    Lisa    33              -23    Premium                     True   \n",
      "6    Jill    20             1230      Basic                     True   \n",
      "7    John    23             1000      Basic                     True   \n",
      "8    Mary    78              970      Basic                    False   \n",
      "9   Peter    22             3000    Premium                     True   \n",
      "10   Jeff    19              500   Advanced                    False   \n",
      "11   Bill    45                0   Advanced                    False   \n",
      "12   Lisa    33              -23    Premium                     True   \n",
      "13   Jill    20             1230      Basic                     True   \n",
      "\n",
      "   Membership_date  \n",
      "0       2020-01-01  \n",
      "1       2021-02-15  \n",
      "2       2020-03-10  \n",
      "3       2019-04-20  \n",
      "4       2018-05-25  \n",
      "5       2022-06-30  \n",
      "6       2021-07-14  \n",
      "7       2020-08-22  \n",
      "8       2019-09-05  \n",
      "9       2022-10-11  \n",
      "10      2018-11-29  \n",
      "11      2021-12-07  \n",
      "12      2020-02-14  \n",
      "13      2019-01-19  \n"
     ]
    }
   ],
   "source": [
    "import pandas as pd\n",
    "from collections import Counter\n",
    "from datetime import datetime\n",
    "\n",
    "def create_membership_data() -> dict[str, list]:\n",
    "    membership_data = {\n",
    "        \"Names\": [\"John\", \"Mary\", \"Peter\", \"Jeff\", \"Bill\", \"Lisa\", \"Jill\", \"John\", \"Mary\", \"Peter\", \"Jeff\", \"Bill\", \"Lisa\", \"Jill\"],\n",
    "        \"Ages\": [23, 78, 22, 19, 45, 33, 20, 23, 78, 22, 19, 45, 33, 20],\n",
    "        \"Account_balance\": [1000, 970, 3000, 500, 0, -23, 1230, 1000, 970, 3000, 500, 0, -23, 1230],\n",
    "        \"Membership\": [\"Basic\", \"Basic\", \"Premium\", \"Advanced\", \"Advanced\", \"Premium\", \"Basic\", \"Basic\", \"Basic\", \"Premium\", \"Advanced\", \"Advanced\", \"Premium\", \"Basic\"],\n",
    "        \"Newsletter_subscription\": [True, False, True, False, False, True, True, True, False, True, False, False, True, True],\n",
    "        \"Membership_date\": [\n",
    "            datetime(2020, 1, 1), \n",
    "            datetime(2021, 2, 15), \n",
    "            datetime(2020, 3, 10),\n",
    "            datetime(2019, 4, 20), \n",
    "            datetime(2018, 5, 25), \n",
    "            datetime(2022, 6, 30),\n",
    "            datetime(2021, 7, 14), \n",
    "            datetime(2020, 8, 22), \n",
    "            datetime(2019, 9, 5),\n",
    "            datetime(2022, 10, 11), \n",
    "            datetime(2018, 11, 29), \n",
    "            datetime(2021, 12, 7),\n",
    "            datetime(2020, 2, 14), \n",
    "            datetime(2019, 1, 19)\n",
    "        ]\n",
    "    }\n",
    "    \n",
    "    return membership_data\n",
    "\n",
    "membership_data: dict[str, list] = create_membership_data()\n",
    "membership_df = pd.DataFrame(membership_data)\n",
    "print(membership_df)"
   ]
  },
  {
   "cell_type": "code",
   "execution_count": 57,
   "metadata": {},
   "outputs": [
    {
     "data": {
      "text/plain": [
       "0      John\n",
       "1      Mary\n",
       "2     Peter\n",
       "3      Jeff\n",
       "4      Bill\n",
       "5      Lisa\n",
       "6      Jill\n",
       "7      John\n",
       "8      Mary\n",
       "9     Peter\n",
       "10     Jeff\n",
       "11     Bill\n",
       "12     Lisa\n",
       "13     Jill\n",
       "Name: Names, dtype: object"
      ]
     },
     "execution_count": 57,
     "metadata": {},
     "output_type": "execute_result"
    }
   ],
   "source": [
    "membership_df[\"Names\"]"
   ]
  },
  {
   "cell_type": "code",
   "execution_count": 59,
   "metadata": {},
   "outputs": [
    {
     "data": {
      "text/html": [
       "<div>\n",
       "<style scoped>\n",
       "    .dataframe tbody tr th:only-of-type {\n",
       "        vertical-align: middle;\n",
       "    }\n",
       "\n",
       "    .dataframe tbody tr th {\n",
       "        vertical-align: top;\n",
       "    }\n",
       "\n",
       "    .dataframe thead th {\n",
       "        text-align: right;\n",
       "    }\n",
       "</style>\n",
       "<table border=\"1\" class=\"dataframe\">\n",
       "  <thead>\n",
       "    <tr style=\"text-align: right;\">\n",
       "      <th></th>\n",
       "      <th>Names</th>\n",
       "      <th>Ages</th>\n",
       "    </tr>\n",
       "  </thead>\n",
       "  <tbody>\n",
       "    <tr>\n",
       "      <th>0</th>\n",
       "      <td>John</td>\n",
       "      <td>23</td>\n",
       "    </tr>\n",
       "    <tr>\n",
       "      <th>1</th>\n",
       "      <td>Mary</td>\n",
       "      <td>78</td>\n",
       "    </tr>\n",
       "    <tr>\n",
       "      <th>2</th>\n",
       "      <td>Peter</td>\n",
       "      <td>22</td>\n",
       "    </tr>\n",
       "    <tr>\n",
       "      <th>3</th>\n",
       "      <td>Jeff</td>\n",
       "      <td>19</td>\n",
       "    </tr>\n",
       "    <tr>\n",
       "      <th>4</th>\n",
       "      <td>Bill</td>\n",
       "      <td>45</td>\n",
       "    </tr>\n",
       "    <tr>\n",
       "      <th>5</th>\n",
       "      <td>Lisa</td>\n",
       "      <td>33</td>\n",
       "    </tr>\n",
       "    <tr>\n",
       "      <th>6</th>\n",
       "      <td>Jill</td>\n",
       "      <td>20</td>\n",
       "    </tr>\n",
       "    <tr>\n",
       "      <th>7</th>\n",
       "      <td>John</td>\n",
       "      <td>23</td>\n",
       "    </tr>\n",
       "    <tr>\n",
       "      <th>8</th>\n",
       "      <td>Mary</td>\n",
       "      <td>78</td>\n",
       "    </tr>\n",
       "    <tr>\n",
       "      <th>9</th>\n",
       "      <td>Peter</td>\n",
       "      <td>22</td>\n",
       "    </tr>\n",
       "    <tr>\n",
       "      <th>10</th>\n",
       "      <td>Jeff</td>\n",
       "      <td>19</td>\n",
       "    </tr>\n",
       "    <tr>\n",
       "      <th>11</th>\n",
       "      <td>Bill</td>\n",
       "      <td>45</td>\n",
       "    </tr>\n",
       "    <tr>\n",
       "      <th>12</th>\n",
       "      <td>Lisa</td>\n",
       "      <td>33</td>\n",
       "    </tr>\n",
       "    <tr>\n",
       "      <th>13</th>\n",
       "      <td>Jill</td>\n",
       "      <td>20</td>\n",
       "    </tr>\n",
       "  </tbody>\n",
       "</table>\n",
       "</div>"
      ],
      "text/plain": [
       "    Names  Ages\n",
       "0    John    23\n",
       "1    Mary    78\n",
       "2   Peter    22\n",
       "3    Jeff    19\n",
       "4    Bill    45\n",
       "5    Lisa    33\n",
       "6    Jill    20\n",
       "7    John    23\n",
       "8    Mary    78\n",
       "9   Peter    22\n",
       "10   Jeff    19\n",
       "11   Bill    45\n",
       "12   Lisa    33\n",
       "13   Jill    20"
      ]
     },
     "execution_count": 59,
     "metadata": {},
     "output_type": "execute_result"
    }
   ],
   "source": [
    "membership_df[[\"Names\", \"Ages\"]]"
   ]
  },
  {
   "cell_type": "code",
   "execution_count": 60,
   "metadata": {},
   "outputs": [
    {
     "name": "stdout",
     "output_type": "stream",
     "text": [
      "John\n"
     ]
    }
   ],
   "source": [
    "print(membership_df[\"Names\"][0])"
   ]
  },
  {
   "cell_type": "code",
   "execution_count": 22,
   "metadata": {},
   "outputs": [],
   "source": [
    "def average_age(df: pd.DataFrame) -> float:\n",
    "    return df[\"Ages\"].mean()\n",
    "\n",
    "def average_account_balance(df: pd.DataFrame) -> float:\n",
    "    return df[\"Account_balance\"].mean()\n",
    "\n",
    "def average_account_balance_by_membership(df: pd.DataFrame) -> pd.DataFrame:\n",
    "    return df.groupby(\"Membership\")[\"Account_balance\"].mean()\n",
    "\n",
    "def most_common_membership(df: pd.DataFrame) -> str:\n",
    "    return df[\"Membership\"].value_counts().idxmax()\n",
    "\n",
    "def most_common_membership_by_age(df: pd.DataFrame) -> pd.DataFrame:\n",
    "    return df.groupby(\"Membership\")[\"Ages\"].mean()\n",
    "\n",
    "def most_popular_membership_type(df: pd.DataFrame) -> str:\n",
    "    return df.groupby(\"Membership\")[\"Names\"].count().idxmax()\n",
    "\n",
    "def most_popular_membership_type_v2(df: pd.DataFrame) -> str:\n",
    "    return df['Membership'].value_counts().idxmax()\n",
    "\n",
    "def most_popular_membership_type_v3(df: pd.DataFrame) -> str:\n",
    "    membership_counts = Counter(df[\"Membership\"])\n",
    "    return membership_counts.most_common(1)[0][0]\n",
    "\n",
    "def percentage_newsletter_subscribed(df: pd.DataFrame) -> float:\n",
    "    return df[\"Newsletter_subscription\"].value_counts(normalize=True)[True]\n",
    "\n",
    "def percentage_newsletter_subscribed_v2(df: pd.DataFrame) -> float:\n",
    "    subscribed_count = df[\"Newsletter_subscription\"].sum()\n",
    "    total_count = len(df)\n",
    "    return (subscribed_count / total_count) * 100"
   ]
  },
  {
   "cell_type": "code",
   "execution_count": 39,
   "metadata": {},
   "outputs": [
    {
     "name": "stdout",
     "output_type": "stream",
     "text": [
      "Average age: 34.285714285714285\n",
      "Average account balance: 953.8571428571429\n",
      "Average account balance by membership: \n",
      "Membership\n",
      "Advanced     250.000000\n",
      "Basic       1066.666667\n",
      "Premium     1488.500000\n",
      "Name: Account_balance, dtype: float64\n"
     ]
    }
   ],
   "source": [
    "# Performing the analysis\n",
    "avg_age = average_age(membership_df)\n",
    "avg_account_balance = average_account_balance(membership_df)\n",
    "avg_account_balance_by_membership = average_account_balance_by_membership(membership_df)\n",
    "# most_common_membership = most_common_membership(membership_df)\n",
    "# most_common_membership_by_age = most_common_membership_by_age(membership_df)\n",
    "# most_common_membership_by_account_balance = most_common_membership_by_account_balance(membership_df)\n",
    "# most_popular_membership_type = most_popular_membership_type(membership_df)\n",
    "# most_popular_membership_type_v2 = most_popular_membership_type_v2(membership_df)\n",
    "# most_popular_membership_type_v3 = most_popular_membership_type_v3(membership_df)\n",
    "# percentage_newsletter_subscribed = percentage_newsletter_subscribed(membership_df)\n",
    "# percentage_newsletter_subscribed_v2 = percentage_newsletter_subscribed_v2(membership_df)\n",
    "\n",
    "print(f\"Average age: {avg_age}\")\n",
    "print(f\"Average account balance: {avg_account_balance}\")\n",
    "print(f\"Average account balance by membership: \\n{avg_account_balance_by_membership}\")"
   ]
  },
  {
   "cell_type": "code",
   "execution_count": null,
   "metadata": {},
   "outputs": [],
   "source": []
  },
  {
   "cell_type": "code",
   "execution_count": null,
   "metadata": {},
   "outputs": [],
   "source": []
  }
 ],
 "metadata": {
  "kernelspec": {
   "display_name": ".venv",
   "language": "python",
   "name": "python3"
  },
  "language_info": {
   "codemirror_mode": {
    "name": "ipython",
    "version": 3
   },
   "file_extension": ".py",
   "mimetype": "text/x-python",
   "name": "python",
   "nbconvert_exporter": "python",
   "pygments_lexer": "ipython3",
   "version": "3.10.13"
  }
 },
 "nbformat": 4,
 "nbformat_minor": 2
}
