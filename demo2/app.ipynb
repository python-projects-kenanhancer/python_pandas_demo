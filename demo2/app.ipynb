{
 "cells": [
  {
   "cell_type": "code",
   "execution_count": 5,
   "id": "initial_id",
   "metadata": {
    "collapsed": true,
    "ExecuteTime": {
     "end_time": "2023-11-20T00:41:18.435461Z",
     "start_time": "2023-11-20T00:41:18.430251Z"
    }
   },
   "outputs": [],
   "source": [
    "import pandas as pd\n",
    "from pathlib import Path\n",
    "\n",
    "data = {\"name\": ['Raphael', 'Donatello'],\n",
    "        \"mask\": ['red', 'purple'],\n",
    "        \"weapon\": ['sai', 'bo staff']}\n",
    "\n",
    "df = pd.DataFrame(data=data)\n",
    "\n",
    "filepath = Path('./output/dummy.csv')\n",
    "filepath.parent.mkdir(parents=True, exist_ok=True)\n",
    "\n",
    "df.to_csv(path_or_buf=filepath, index=False)"
   ]
  },
  {
   "cell_type": "code",
   "execution_count": null,
   "outputs": [],
   "source": [],
   "metadata": {
    "collapsed": false
   },
   "id": "734c6e9c488b7441"
  }
 ],
 "metadata": {
  "kernelspec": {
   "display_name": "Python 3",
   "language": "python",
   "name": "python3"
  },
  "language_info": {
   "codemirror_mode": {
    "name": "ipython",
    "version": 2
   },
   "file_extension": ".py",
   "mimetype": "text/x-python",
   "name": "python",
   "nbconvert_exporter": "python",
   "pygments_lexer": "ipython2",
   "version": "2.7.6"
  }
 },
 "nbformat": 4,
 "nbformat_minor": 5
}
