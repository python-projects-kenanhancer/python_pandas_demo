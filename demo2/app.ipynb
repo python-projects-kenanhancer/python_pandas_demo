{
 "cells": [
  {
   "cell_type": "code",
   "execution_count": 8,
   "id": "initial_id",
   "metadata": {
    "ExecuteTime": {
     "end_time": "2023-11-20T09:42:12.959756Z",
     "start_time": "2023-11-20T09:42:11.149633Z"
    },
    "collapsed": true
   },
   "outputs": [],
   "source": [
    "import pandas as pd\n",
    "from pathlib import Path\n",
    "\n",
    "character_data: dict[str, list[str]] = {\n",
    "    \"name\": [\"Raphael\", \"Donatello\"],\n",
    "    \"mask\": [\"red\", \"purple\"],\n",
    "    \"weapon\": [\"sai\", \"bo staff\"],\n",
    "}\n",
    "\n",
    "character_df: pd.DataFrame = pd.DataFrame(data=character_data)\n",
    "\n",
    "output_csv_path = Path(\"./output/character_data.csv\")\n",
    "output_csv_path.parent.mkdir(parents=True, exist_ok=True)\n",
    "\n",
    "character_df.to_csv(path_or_buf=output_csv_path, index=False)"
   ]
  },
  {
   "cell_type": "code",
   "execution_count": 9,
   "id": "734c6e9c488b7441",
   "metadata": {
    "collapsed": false
   },
   "outputs": [
    {
     "name": "stdout",
     "output_type": "stream",
     "text": [
      "        name    mask    weapon\n",
      "0    Raphael     red       sai\n",
      "1  Donatello  purple  bo staff\n"
     ]
    }
   ],
   "source": [
    "input_csv_path = Path(\"./output/character_data.csv\")\n",
    "\n",
    "if input_csv_path.exists():\n",
    "    df: pd.DataFrame = pd.read_csv(input_csv_path)\n",
    "    print(df)\n",
    "else:\n",
    "    print(\"File does not exist.\")"
   ]
  },
  {
   "cell_type": "code",
   "execution_count": null,
   "metadata": {},
   "outputs": [],
   "source": []
  }
 ],
 "metadata": {
  "kernelspec": {
   "display_name": "Python 3",
   "language": "python",
   "name": "python3"
  },
  "language_info": {
   "codemirror_mode": {
    "name": "ipython",
    "version": 3
   },
   "file_extension": ".py",
   "mimetype": "text/x-python",
   "name": "python",
   "nbconvert_exporter": "python",
   "pygments_lexer": "ipython3",
   "version": "3.10.13"
  }
 },
 "nbformat": 4,
 "nbformat_minor": 5
}
