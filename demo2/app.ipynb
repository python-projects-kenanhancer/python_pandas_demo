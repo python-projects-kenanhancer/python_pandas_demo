{
 "cells": [
  {
   "cell_type": "code",
   "execution_count": null,
   "outputs": [],
   "source": [
    "import pandas as pd\n",
    "from pathlib import Path\n",
    "\n",
    "data = {\"name\": ['Raphael', 'Donatello'],\n",
    "        \"mask\": ['red', 'purple'],\n",
    "        \"weapon\": ['sai', 'bo staff']}\n",
    "\n",
    "df = pd.DataFrame(data=data)\n",
    "\n",
    "filepath = Path('./output/dummy.csv')\n",
    "filepath.parent.mkdir(parents=True, exist_ok=True)\n",
    "\n",
    "df.to_csv(path_or_buf=filepath, index=False)"
   ],
   "metadata": {
    "collapsed": false
   },
   "id": "b5216651e68946df"
  },
  {
   "cell_type": "code",
   "execution_count": null,
   "metadata": {},
   "outputs": [],
   "source": [],
   "id": "40b94e29c7161fb4"
  }
 ],
 "metadata": {
  "kernelspec": {
   "display_name": "Python 3",
   "language": "python",
   "name": "python3"
  },
  "language_info": {
   "codemirror_mode": {
    "name": "ipython",
    "version": 3
   },
   "file_extension": ".py",
   "mimetype": "text/x-python",
   "name": "python",
   "nbconvert_exporter": "python",
   "pygments_lexer": "ipython3",
   "version": "3.10.13"
  }
 },
 "nbformat": 4,
 "nbformat_minor": 5
}
